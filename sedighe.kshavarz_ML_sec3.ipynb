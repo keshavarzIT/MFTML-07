{
  "cells": [
    {
      "cell_type": "code",
      "execution_count": 192,
      "metadata": {
        "id": "f5sGwPjtgU4p"
      },
      "outputs": [],
      "source": [
        "import itertools\n",
        "import numpy as np\n",
        "import pandas as pd\n",
        "from sklearn.model_selection import train_test_split"
      ]
    },
    {
      "cell_type": "code",
      "execution_count": 193,
      "metadata": {
        "colab": {
          "base_uri": "https://localhost:8080/",
          "height": 101
        },
        "id": "dDzwyWqRgJzL",
        "outputId": "38d76b96-db05-4b88-e714-a0a641752e24"
      },
      "outputs": [
        {
          "data": {
            "text/html": [
              "<div>\n",
              "<style scoped>\n",
              "    .dataframe tbody tr th:only-of-type {\n",
              "        vertical-align: middle;\n",
              "    }\n",
              "\n",
              "    .dataframe tbody tr th {\n",
              "        vertical-align: top;\n",
              "    }\n",
              "\n",
              "    .dataframe thead th {\n",
              "        text-align: right;\n",
              "    }\n",
              "</style>\n",
              "<table border=\"1\" class=\"dataframe\">\n",
              "  <thead>\n",
              "    <tr style=\"text-align: right;\">\n",
              "      <th></th>\n",
              "      <th>MODELYEAR</th>\n",
              "      <th>MAKE</th>\n",
              "      <th>MODEL</th>\n",
              "      <th>VEHICLECLASS</th>\n",
              "      <th>ENGINESIZE</th>\n",
              "      <th>CYLINDERS</th>\n",
              "      <th>TRANSMISSION</th>\n",
              "      <th>FUELTYPE</th>\n",
              "      <th>FUELCONSUMPTION_CITY</th>\n",
              "      <th>FUELCONSUMPTION_HWY</th>\n",
              "      <th>FUELCONSUMPTION_COMB</th>\n",
              "      <th>FUELCONSUMPTION_COMB_MPG</th>\n",
              "      <th>CO2EMISSIONS</th>\n",
              "    </tr>\n",
              "  </thead>\n",
              "  <tbody>\n",
              "    <tr>\n",
              "      <th>0</th>\n",
              "      <td>2014</td>\n",
              "      <td>ACURA</td>\n",
              "      <td>ILX</td>\n",
              "      <td>COMPACT</td>\n",
              "      <td>2.0</td>\n",
              "      <td>4</td>\n",
              "      <td>AS5</td>\n",
              "      <td>Z</td>\n",
              "      <td>9.9</td>\n",
              "      <td>6.7</td>\n",
              "      <td>8.5</td>\n",
              "      <td>33</td>\n",
              "      <td>196</td>\n",
              "    </tr>\n",
              "  </tbody>\n",
              "</table>\n",
              "</div>"
            ],
            "text/plain": [
              "   MODELYEAR   MAKE MODEL VEHICLECLASS  ENGINESIZE  CYLINDERS TRANSMISSION  \\\n",
              "0       2014  ACURA   ILX      COMPACT         2.0          4          AS5   \n",
              "\n",
              "  FUELTYPE  FUELCONSUMPTION_CITY  FUELCONSUMPTION_HWY  FUELCONSUMPTION_COMB  \\\n",
              "0        Z                   9.9                  6.7                   8.5   \n",
              "\n",
              "   FUELCONSUMPTION_COMB_MPG  CO2EMISSIONS  \n",
              "0                        33           196  "
            ]
          },
          "execution_count": 193,
          "metadata": {},
          "output_type": "execute_result"
        }
      ],
      "source": [
        "df = pd.read_csv('FuelConsumption.csv')\n",
        "df.head(1)"
      ]
    },
    {
      "cell_type": "code",
      "execution_count": 194,
      "metadata": {
        "colab": {
          "base_uri": "https://localhost:8080/"
        },
        "id": "Ua5pQWyUgGp7",
        "outputId": "34c36b36-8e38-42b0-c7fd-36c3956ab54b"
      },
      "outputs": [
        {
          "data": {
            "text/plain": [
              "[['FUELCONSUMPTION_HWY'],\n",
              " ['FUELCONSUMPTION_COMB'],\n",
              " ['FUELCONSUMPTION_COMB_MPG'],\n",
              " ['FUELCONSUMPTION_HWY', 'FUELCONSUMPTION_COMB'],\n",
              " ['FUELCONSUMPTION_HWY', 'FUELCONSUMPTION_COMB_MPG'],\n",
              " ['FUELCONSUMPTION_COMB', 'FUELCONSUMPTION_COMB_MPG'],\n",
              " ['FUELCONSUMPTION_HWY', 'FUELCONSUMPTION_COMB', 'FUELCONSUMPTION_COMB_MPG']]"
            ]
          },
          "execution_count": 194,
          "metadata": {},
          "output_type": "execute_result"
        }
      ],
      "source": [
        "cols = ['FUELCONSUMPTION_HWY', 'FUELCONSUMPTION_COMB','FUELCONSUMPTION_COMB_MPG']\n",
        "combinations = []\n",
        "for i in range(1, len(cols)+1):\n",
        "    combinations.extend([list(x) for x in itertools.combinations(cols,i)])\n",
        "\n",
        "combinations"
      ]
    },
    {
      "cell_type": "code",
      "execution_count": 195,
      "metadata": {},
      "outputs": [],
      "source": [
        "y = df['CO2EMISSIONS'].values\n",
        "x0 = np.ones((len(df),1))\n",
        "n_epochs = 100\n"
      ]
    },
    {
      "cell_type": "code",
      "execution_count": 196,
      "metadata": {},
      "outputs": [],
      "source": [
        "def calc_lr(t, a=0.01, b=200):\n",
        "    return a/(b+t)\n",
        "\n",
        "def reg_predict(X, w):\n",
        "    return np.dot(X, w)\n",
        "\n",
        "\n",
        "def mse_loss(error):\n",
        "    return np.sum(error*error)/error.shape[0]\n",
        "\n",
        "def cal_gradient(X, error):\n",
        "    return (1/len(X))*(np.dot(X.T,error))\n",
        "\n",
        "\n",
        "def update_weight(w, lr, gradient):\n",
        "    return w-(lr*gradient)\n",
        "\n",
        "\n",
        "def train_SGD(X,y,w,n_epochs):\n",
        "    losses = []\n",
        "    W = []\n",
        "    m = len(X)\n",
        "    for epoch in range(n_epochs):\n",
        "        for iteration in range(m):\n",
        "            lr = calc_lr(epoch+iteration)\n",
        "            i = np.random.randint(0,m)\n",
        "            xi = X[i:i+1]\n",
        "            yi = y[i:i+1]\n",
        "            y_hat = reg_predict(xi, w)\n",
        "            error = y_hat-yi\n",
        "            loss = mse_loss(error)\n",
        "            gradient = cal_gradient(xi, error)\n",
        "            w = update_weight(w, lr, gradient)\n",
        "            W.append(w)\n",
        "            losses.append(loss)\n",
        "    return losses[-1], W[-1]\n",
        "\n",
        "def train_MGD(X,y,w,n_epochs,batch_size):\n",
        "    losses = []\n",
        "    W = []\n",
        "    m = len(X)\n",
        "    for epoch in range(n_epochs):\n",
        "        new_index = np.random.permutation(len(X))\n",
        "        new_x = X[new_index]\n",
        "        new_y = y[new_index]\n",
        "        for iteration in range(0,m,batch_size):\n",
        "            lr = calc_lr(epoch+iteration/batch_size)\n",
        "            xi = new_x[iteration:iteration+batch_size]\n",
        "            yi = new_y[iteration:iteration+batch_size]\n",
        "            y_hat = reg_predict(xi, w)\n",
        "            error = y_hat-yi\n",
        "            loss = mse_loss(error)\n",
        "            gradient = cal_gradient(xi, error)\n",
        "            w = update_weight(w, lr, gradient)\n",
        "            W.append(w)\n",
        "            losses.append(loss)\n",
        "    return losses, W"
      ]
    },
    {
      "cell_type": "markdown",
      "metadata": {},
      "source": [
        "<div dir=\"rtl\">\n",
        "تمرین یک:\n",
        "بررسی ترکیبات سه ستون و پیاده سازی sgd  با دو تست سایز متفاوت"
      ]
    },
    {
      "cell_type": "code",
      "execution_count": 197,
      "metadata": {
        "colab": {
          "base_uri": "https://localhost:8080/",
          "height": 289
        },
        "id": "mcJG9Gfzf-jr",
        "outputId": "80177691-1f11-4e22-a58c-f3b364d24402"
      },
      "outputs": [
        {
          "data": {
            "text/html": [
              "<div>\n",
              "<style scoped>\n",
              "    .dataframe tbody tr th:only-of-type {\n",
              "        vertical-align: middle;\n",
              "    }\n",
              "\n",
              "    .dataframe tbody tr th {\n",
              "        vertical-align: top;\n",
              "    }\n",
              "\n",
              "    .dataframe thead th {\n",
              "        text-align: right;\n",
              "    }\n",
              "</style>\n",
              "<table border=\"1\" class=\"dataframe\">\n",
              "  <thead>\n",
              "    <tr style=\"text-align: right;\">\n",
              "      <th></th>\n",
              "      <th>col</th>\n",
              "      <th>loss_0.2</th>\n",
              "      <th>loss_0.3</th>\n",
              "    </tr>\n",
              "  </thead>\n",
              "  <tbody>\n",
              "    <tr>\n",
              "      <th>0</th>\n",
              "      <td>FUELCONSUMPTION_COMB,FUELCONSUMPTION_COMB_MPG</td>\n",
              "      <td>863.1</td>\n",
              "      <td>989.5</td>\n",
              "    </tr>\n",
              "    <tr>\n",
              "      <th>1</th>\n",
              "      <td>FUELCONSUMPTION_HWY,FUELCONSUMPTION_COMB,FUELC...</td>\n",
              "      <td>914.4</td>\n",
              "      <td>1095.7</td>\n",
              "    </tr>\n",
              "    <tr>\n",
              "      <th>2</th>\n",
              "      <td>FUELCONSUMPTION_COMB</td>\n",
              "      <td>994.2</td>\n",
              "      <td>1227.9</td>\n",
              "    </tr>\n",
              "    <tr>\n",
              "      <th>3</th>\n",
              "      <td>FUELCONSUMPTION_HWY</td>\n",
              "      <td>1211.0</td>\n",
              "      <td>1203.6</td>\n",
              "    </tr>\n",
              "    <tr>\n",
              "      <th>4</th>\n",
              "      <td>FUELCONSUMPTION_HWY,FUELCONSUMPTION_COMB_MPG</td>\n",
              "      <td>1302.7</td>\n",
              "      <td>1263.8</td>\n",
              "    </tr>\n",
              "    <tr>\n",
              "      <th>5</th>\n",
              "      <td>FUELCONSUMPTION_HWY,FUELCONSUMPTION_COMB</td>\n",
              "      <td>1321.3</td>\n",
              "      <td>1077.8</td>\n",
              "    </tr>\n",
              "    <tr>\n",
              "      <th>6</th>\n",
              "      <td>FUELCONSUMPTION_COMB_MPG</td>\n",
              "      <td>14302.7</td>\n",
              "      <td>12830.8</td>\n",
              "    </tr>\n",
              "  </tbody>\n",
              "</table>\n",
              "</div>"
            ],
            "text/plain": [
              "                                                 col  loss_0.2  loss_0.3\n",
              "0      FUELCONSUMPTION_COMB,FUELCONSUMPTION_COMB_MPG     863.1     989.5\n",
              "1  FUELCONSUMPTION_HWY,FUELCONSUMPTION_COMB,FUELC...     914.4    1095.7\n",
              "2                               FUELCONSUMPTION_COMB     994.2    1227.9\n",
              "3                                FUELCONSUMPTION_HWY    1211.0    1203.6\n",
              "4       FUELCONSUMPTION_HWY,FUELCONSUMPTION_COMB_MPG    1302.7    1263.8\n",
              "5           FUELCONSUMPTION_HWY,FUELCONSUMPTION_COMB    1321.3    1077.8\n",
              "6                           FUELCONSUMPTION_COMB_MPG   14302.7   12830.8"
            ]
          },
          "execution_count": 197,
          "metadata": {},
          "output_type": "execute_result"
        }
      ],
      "source": [
        "y = df['CO2EMISSIONS'].values.reshape(-1, 1)\n",
        "\n",
        "errors = []\n",
        "for col in combinations:\n",
        "  X = df[col].values\n",
        "  n = len(col)\n",
        "  x_aug = np.concatenate((x0, X), axis=1)\n",
        "\n",
        "  x_train, x_test, y_train, y_test = train_test_split(x_aug,y, test_size=0.2)\n",
        "  w = np.random.rand(n+1, 1)\n",
        "  _, w_last = train_SGD(x_train,y_train,w,n_epochs)\n",
        "  y_predict = reg_predict(x_test,w_last)\n",
        "  loss_02 =np.round(mse_loss(y_predict-y_test),1)\n",
        "\n",
        "  x_train, x_test, y_train, y_test = train_test_split(x_aug,y, test_size=0.3)\n",
        "  w = np.random.rand(n+1, 1)\n",
        "  _, w_last = train_SGD(x_train,y_train,w,n_epochs)\n",
        "  y_predict = reg_predict(x_test,w_last)\n",
        "  loss_03 =np.round(mse_loss(y_predict-y_test),1)\n",
        " \n",
        "  errors.append((','.join(col),loss_02,loss_03))\n",
        "\n",
        "errors_df = pd.DataFrame(errors,columns=['col','loss_0.2','loss_0.3'])\n",
        "errors_df = errors_df.sort_values(by='loss_0.2')\n",
        "errors_df.reset_index(drop=True, inplace=True)\n",
        "errors_df\n"
      ]
    },
    {
      "cell_type": "markdown",
      "metadata": {},
      "source": [
        "<div dir=\"rtl\">\n",
        "تمرین دو:\n",
        "\n",
        "انتخاب یک ستون از دیتا و اعمال mgd بر روی آن"
      ]
    },
    {
      "cell_type": "code",
      "execution_count": 198,
      "metadata": {},
      "outputs": [
        {
          "data": {
            "text/plain": [
              "np.float64(15975.0)"
            ]
          },
          "execution_count": 198,
          "metadata": {},
          "output_type": "execute_result"
        }
      ],
      "source": [
        "y = df['CO2EMISSIONS'].values.reshape(-1, 1)\n",
        "selected_col = ['FUELCONSUMPTION_COMB_MPG']\n",
        "X = df[selected_col].values\n",
        "x_aug = np.concatenate((x0, X), axis=1)\n",
        "x_train, x_test, y_train, y_test = train_test_split(x_aug,y, test_size=0.2)\n",
        "w = np.random.rand(2, 1)\n",
        "losses, W = train_MGD(x_train,y_train,w,n_epochs,30)\n",
        "y_predict = reg_predict(x_test,W[-1])\n",
        "loss =np.round(mse_loss(y_predict-y_test),1)\n",
        "loss"
      ]
    }
  ],
  "metadata": {
    "colab": {
      "provenance": []
    },
    "kernelspec": {
      "display_name": "Python3.13(ipykernel)",
      "language": "python",
      "name": "ipykernel"
    },
    "language_info": {
      "codemirror_mode": {
        "name": "ipython",
        "version": 3
      },
      "file_extension": ".py",
      "mimetype": "text/x-python",
      "name": "python",
      "nbconvert_exporter": "python",
      "pygments_lexer": "ipython3",
      "version": "3.13.0"
    }
  },
  "nbformat": 4,
  "nbformat_minor": 0
}
